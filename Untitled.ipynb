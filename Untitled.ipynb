{
 "cells": [
  {
   "cell_type": "code",
   "execution_count": 1,
   "metadata": {
    "collapsed": true
   },
   "outputs": [],
   "source": [
    "from corrad_cuba import Landsat"
   ]
  },
  {
   "cell_type": "code",
   "execution_count": 2,
   "metadata": {
    "collapsed": false
   },
   "outputs": [
    {
     "name": "stdout",
     "output_type": "stream",
     "text": [
      "http://earthexplorer.usgs.gov/browse/landsat_8/2015/i01/_45/LC80160452015332LGN00.jpg\n"
     ]
    },
    {
     "data": {
      "text/html": [
       "<img src=\"http://earthexplorer.usgs.gov/browse/landsat_8/2015/i01/_45/LC80160452015332LGN00.jpg\" width=\"500\"/>"
      ],
      "text/plain": [
       "<IPython.core.display.Image object>"
      ]
     },
     "metadata": {},
     "output_type": "display_data"
    }
   ],
   "source": [
    "escena = Landsat(r'C:\\cuba\\L8_2016\\ori\\20151128l8oli016_45')"
   ]
  },
  {
   "cell_type": "code",
   "execution_count": 3,
   "metadata": {
    "collapsed": false,
    "scrolled": true
   },
   "outputs": [
    {
     "name": "stdout",
     "output_type": "stream",
     "text": [
      "comenzando Fmask\n",
      "comenzando Fmask\n",
      "Mascara de nubes (Fmask) generada en -68.7239999771 segundos\n",
      "B1\n",
      "gdal_translate -of ENVI --config GDAL_CACHEMAX 8000 --config GDAL_NUM_THREADS ALL_CPUS C:\\cuba\\L8_2016\\ori\\20151128l8oli016_45\\LC80160452015332LGN00_B1.TIF C:\\cuba\\L8_2016\\ori\\20151128l8oli016_45\\20151128l8oli016_45_r_b1.img\n",
      "B10\n",
      "gdal_translate -of ENVI --config GDAL_CACHEMAX 8000 --config GDAL_NUM_THREADS ALL_CPUS C:\\cuba\\L8_2016\\ori\\20151128l8oli016_45\\LC80160452015332LGN00_B10.TIF C:\\cuba\\L8_2016\\ori\\20151128l8oli016_45\\20151128l8oli016_45_r_b10.img\n",
      "B11\n",
      "gdal_translate -of ENVI --config GDAL_CACHEMAX 8000 --config GDAL_NUM_THREADS ALL_CPUS C:\\cuba\\L8_2016\\ori\\20151128l8oli016_45\\LC80160452015332LGN00_B11.TIF C:\\cuba\\L8_2016\\ori\\20151128l8oli016_45\\20151128l8oli016_45_r_b11.img\n",
      "B2\n",
      "gdal_translate -of ENVI --config GDAL_CACHEMAX 8000 --config GDAL_NUM_THREADS ALL_CPUS C:\\cuba\\L8_2016\\ori\\20151128l8oli016_45\\LC80160452015332LGN00_B2.TIF C:\\cuba\\L8_2016\\ori\\20151128l8oli016_45\\20151128l8oli016_45_r_b2.img\n",
      "B3\n",
      "gdal_translate -of ENVI --config GDAL_CACHEMAX 8000 --config GDAL_NUM_THREADS ALL_CPUS C:\\cuba\\L8_2016\\ori\\20151128l8oli016_45\\LC80160452015332LGN00_B3.TIF C:\\cuba\\L8_2016\\ori\\20151128l8oli016_45\\20151128l8oli016_45_r_b3.img\n",
      "B4\n",
      "gdal_translate -of ENVI --config GDAL_CACHEMAX 8000 --config GDAL_NUM_THREADS ALL_CPUS C:\\cuba\\L8_2016\\ori\\20151128l8oli016_45\\LC80160452015332LGN00_B4.TIF C:\\cuba\\L8_2016\\ori\\20151128l8oli016_45\\20151128l8oli016_45_r_b4.img\n",
      "B5\n",
      "gdal_translate -of ENVI --config GDAL_CACHEMAX 8000 --config GDAL_NUM_THREADS ALL_CPUS C:\\cuba\\L8_2016\\ori\\20151128l8oli016_45\\LC80160452015332LGN00_B5.TIF C:\\cuba\\L8_2016\\ori\\20151128l8oli016_45\\20151128l8oli016_45_r_b5.img\n",
      "B6\n",
      "gdal_translate -of ENVI --config GDAL_CACHEMAX 8000 --config GDAL_NUM_THREADS ALL_CPUS C:\\cuba\\L8_2016\\ori\\20151128l8oli016_45\\LC80160452015332LGN00_B6.TIF C:\\cuba\\L8_2016\\ori\\20151128l8oli016_45\\20151128l8oli016_45_r_b6.img\n",
      "B7\n",
      "gdal_translate -of ENVI --config GDAL_CACHEMAX 8000 --config GDAL_NUM_THREADS ALL_CPUS C:\\cuba\\L8_2016\\ori\\20151128l8oli016_45\\LC80160452015332LGN00_B7.TIF C:\\cuba\\L8_2016\\ori\\20151128l8oli016_45\\20151128l8oli016_45_r_b7.img\n",
      "B8\n",
      "gdal_translate -of ENVI --config GDAL_CACHEMAX 8000 --config GDAL_NUM_THREADS ALL_CPUS C:\\cuba\\L8_2016\\ori\\20151128l8oli016_45\\LC80160452015332LGN00_B8.TIF C:\\cuba\\L8_2016\\ori\\20151128l8oli016_45\\20151128l8oli016_45_r_b8.img\n",
      "B9\n",
      "gdal_translate -of ENVI --config GDAL_CACHEMAX 8000 --config GDAL_NUM_THREADS ALL_CPUS C:\\cuba\\L8_2016\\ori\\20151128l8oli016_45\\LC80160452015332LGN00_B9.TIF C:\\cuba\\L8_2016\\ori\\20151128l8oli016_45\\20151128l8oli016_45_r_b9.img\n",
      "BQA\n",
      "gdal_translate -of ENVI --config GDAL_CACHEMAX 8000 --config GDAL_NUM_THREADS ALL_CPUS C:\\cuba\\L8_2016\\ori\\20151128l8oli016_45\\LC80160452015332LGN00_BQA.TIF C:\\cuba\\L8_2016\\ori\\20151128l8oli016_45\\20151128l8oli016_45_r_bqa.img\n",
      "C:\\cuba\\L8_2016\\ori\\20151128l8oli016_45\\20151128l8oli016_45_r_b1.img\n",
      "C:\\cuba\\L8_2016\\ori\\20151128l8oli016_45\\20151128l8oli016_45_r_b1.img.aux.xml\n",
      "C:\\cuba\\L8_2016\\ori\\20151128l8oli016_45\\20151128l8oli016_45_r_b10.img\n",
      "C:\\cuba\\L8_2016\\ori\\20151128l8oli016_45\\20151128l8oli016_45_r_b10.img.aux.xml\n",
      "C:\\cuba\\L8_2016\\ori\\20151128l8oli016_45\\20151128l8oli016_45_r_b11.img\n",
      "C:\\cuba\\L8_2016\\ori\\20151128l8oli016_45\\20151128l8oli016_45_r_b11.img.aux.xml\n",
      "C:\\cuba\\L8_2016\\ori\\20151128l8oli016_45\\20151128l8oli016_45_r_b2.img\n",
      "C:\\cuba\\L8_2016\\ori\\20151128l8oli016_45\\20151128l8oli016_45_r_b2.img.aux.xml\n",
      "C:\\cuba\\L8_2016\\ori\\20151128l8oli016_45\\20151128l8oli016_45_r_b3.img\n",
      "C:\\cuba\\L8_2016\\ori\\20151128l8oli016_45\\20151128l8oli016_45_r_b3.img.aux.xml\n",
      "C:\\cuba\\L8_2016\\ori\\20151128l8oli016_45\\20151128l8oli016_45_r_b4.img\n",
      "C:\\cuba\\L8_2016\\ori\\20151128l8oli016_45\\20151128l8oli016_45_r_b4.img.aux.xml\n",
      "C:\\cuba\\L8_2016\\ori\\20151128l8oli016_45\\20151128l8oli016_45_r_b5.img\n",
      "C:\\cuba\\L8_2016\\ori\\20151128l8oli016_45\\20151128l8oli016_45_r_b5.img.aux.xml\n",
      "C:\\cuba\\L8_2016\\ori\\20151128l8oli016_45\\20151128l8oli016_45_r_b6.img\n",
      "C:\\cuba\\L8_2016\\ori\\20151128l8oli016_45\\20151128l8oli016_45_r_b6.img.aux.xml\n",
      "C:\\cuba\\L8_2016\\ori\\20151128l8oli016_45\\20151128l8oli016_45_r_b7.img\n",
      "C:\\cuba\\L8_2016\\ori\\20151128l8oli016_45\\20151128l8oli016_45_r_b7.img.aux.xml\n",
      "C:\\cuba\\L8_2016\\ori\\20151128l8oli016_45\\20151128l8oli016_45_r_b8.img\n",
      "C:\\cuba\\L8_2016\\ori\\20151128l8oli016_45\\20151128l8oli016_45_r_b8.img.aux.xml\n",
      "C:\\cuba\\L8_2016\\ori\\20151128l8oli016_45\\20151128l8oli016_45_r_b9.img\n",
      "C:\\cuba\\L8_2016\\ori\\20151128l8oli016_45\\20151128l8oli016_45_r_b9.img.aux.xml\n",
      "C:\\cuba\\L8_2016\\ori\\20151128l8oli016_45\\20151128l8oli016_45_r_bqa.img\n",
      "C:\\cuba\\L8_2016\\ori\\20151128l8oli016_45\\20151128l8oli016_45_r_bqa.img.aux.xml\n",
      "['C:\\\\MiraMon\\\\TIFIMG', '9', 'C:\\\\cuba\\\\L8_2016\\\\ori\\\\20151128l8oli016_45\\\\LC80160452015332LGN00_B1.TIF', 'C:\\\\cuba\\\\L8_2016\\\\ori\\\\20151128l8oli016_45\\\\miramon_import', '1', '0', '/MD=C:\\\\cuba\\\\L8_2016\\\\ori\\\\20151128l8oli016_45\\\\LC80160452015332LGN00_MTL.txt', '/DT=c:\\\\MiraMon']\n",
      "Escena importada con exito en 131.730000019 segundos\n",
      "Creating new index file...\n",
      "\n",
      "marco generado\n",
      "C:\\cuba\\L8_2016\\data\\cubadtm_aster.tif\n",
      "Creating output file that is 7691P x 7851L.\n",
      "Processing input file C:\\cuba\\L8_2016\\data\\cubadtm_aster.tif.\n",
      "Using internal nodata values (e.g. -32767) for image C:\\cuba\\L8_2016\\data\\cubadtm_aster.tif.\n",
      "0...10...20...30...40...50...60...70...80...90...100 - done.\n",
      "\n",
      "dtm_escena generado\n",
      "0...10...20...30...40...50...60...70...80...90...100 - done.\n",
      "\n",
      "Hillshade generado\n",
      "min, max:  0 255\n",
      "C:\\cuba\\L8_2016\\data\\temp\\hillshade.img\n",
      "usando Fmask\n",
      "lista:  [8558, 8572, 8574, 8575, 8575, 8576, 8576, 8577, 8578, 8579]\n",
      "data3:  8558 8639\n",
      "usando Fmask\n",
      "lista:  [7640, 7670, 7675, 7675, 7676, 7679, 7680, 7681, 7682, 7684]\n",
      "data3:  7640 7737\n",
      "usando Fmask\n",
      "lista:  [6434, 6435, 6436, 6437, 6438, 6439, 6440, 6440, 6440, 6440]\n",
      "data3:  6434 6475\n",
      "usando Fmask\n",
      "lista:  [5820, 5826, 5831, 5831, 5832, 5832, 5832, 5832, 5832, 5833]\n",
      "data3:  5820 5860\n",
      "usando Fmask\n",
      "lista:  [4835, 4839, 4869, 4923, 4958, 4969, 4979, 4991, 4992, 5008]\n",
      "data3:  4835 5383\n",
      "usando Fmask\n",
      "lista:  [5013, 5033, 5045, 5059, 5067, 5070, 5072, 5074, 5075, 5075]\n",
      "data3:  5013 5128\n",
      "usando Fmask\n",
      "lista:  [5034, 5047, 5053, 5056, 5056, 5058, 5063, 5063, 5064, 5065]\n",
      "data3:  5034 5083\n",
      "usando Fmask\n",
      "lista:  [4918, 4922, 4925, 4930, 4930, 4932, 4932, 4933, 4935, 4935]\n",
      "data3:  4918 4975\n",
      "Histogramas generados\n",
      "modificados los metadatos del archivo kl.rad\n",
      "Proceso finalizado en 130.653000116 segundos\n",
      "[8558, 7640, 6434, 5820, 4835, 5013, 5034, 4918]\n",
      "Nodtm generado\n",
      "modificados los metadatos de  LC8_016045_20151128_BQA-WaterConfidence_00.img\n",
      "modificados los metadatos de  LC8_016045_20151128_BQA-WaterConfidence_00.img\n",
      "modificados los metadatos del bat\n",
      "el dtm usado es  C:\\cuba\\L8_2016\\data\\temp\\Nodtm.img\n",
      "['C:\\\\MiraMon\\\\CORRAD', '1', 'C:\\\\cuba\\\\L8_2016\\\\ori\\\\20151128l8oli016_45\\\\miramon_import\\\\LC8_016045_20151128_B1-CA_00.img', 'C:\\\\cuba\\\\L8_2016\\\\rad\\\\20151128l8oli016_45', 'C:\\\\cuba\\\\L8_2016\\\\data\\\\temp\\\\Nodtm.img', 'C:\\\\cuba\\\\L8_2016\\\\rad\\\\kl_l8.rad', '/MULTIBANDA /CONSERVAR_MDT /LIMIT_LAMBERT=73.000000 /REF_SUP_100 /REF_INF_0 /DT=c:\\\\MiraMon']\n",
      "Llamando a Miramon... Miramon!!!!!!\n",
      "Escena corregida con exito en 62.6769998074 segundos\n",
      "r_LC8_016045_20151128_B1-CA_00.doc\n",
      "B1\n",
      "r_LC8_016045_20151128_B1-CA_00.img\n",
      "B1\n",
      "r_LC8_016045_20151128_B2-B_00.doc\n",
      "B2\n",
      "r_LC8_016045_20151128_B2-B_00.img\n",
      "B2\n",
      "r_LC8_016045_20151128_B3-G_00.doc\n",
      "B3\n",
      "r_LC8_016045_20151128_B3-G_00.img\n",
      "B3\n",
      "r_LC8_016045_20151128_B4-R_00.doc\n",
      "B4\n",
      "r_LC8_016045_20151128_B4-R_00.img\n",
      "B4\n",
      "r_LC8_016045_20151128_B5-NIR_00.doc\n",
      "B5\n",
      "r_LC8_016045_20151128_B5-NIR_00.img\n",
      "B5\n",
      "r_LC8_016045_20151128_B6-SWIR1_00.doc\n",
      "B6\n",
      "r_LC8_016045_20151128_B6-SWIR1_00.img\n",
      "B6\n",
      "r_LC8_016045_20151128_B7-SWIR2_00.doc\n",
      "B7\n",
      "r_LC8_016045_20151128_B7-SWIR2_00.img\n",
      "B7\n",
      "r_LC8_016045_20151128_B9-CI_00.doc\n",
      "B9\n",
      "r_LC8_016045_20151128_B9-CI_00.img\n",
      "B9\n",
      "C:\\cuba\\L8_2016\\ori\\20151128l8oli016_45\\20151128l8oli016_45_r_b1.hdr movido a rad\n",
      "C:\\cuba\\L8_2016\\ori\\20151128l8oli016_45\\20151128l8oli016_45_r_b10.hdr movido a rad\n",
      "C:\\cuba\\L8_2016\\ori\\20151128l8oli016_45\\20151128l8oli016_45_r_b11.hdr movido a rad\n",
      "C:\\cuba\\L8_2016\\ori\\20151128l8oli016_45\\20151128l8oli016_45_r_b2.hdr movido a rad\n",
      "C:\\cuba\\L8_2016\\ori\\20151128l8oli016_45\\20151128l8oli016_45_r_b3.hdr movido a rad\n",
      "C:\\cuba\\L8_2016\\ori\\20151128l8oli016_45\\20151128l8oli016_45_r_b4.hdr movido a rad\n",
      "C:\\cuba\\L8_2016\\ori\\20151128l8oli016_45\\20151128l8oli016_45_r_b5.hdr movido a rad\n",
      "C:\\cuba\\L8_2016\\ori\\20151128l8oli016_45\\20151128l8oli016_45_r_b6.hdr movido a rad\n",
      "C:\\cuba\\L8_2016\\ori\\20151128l8oli016_45\\20151128l8oli016_45_r_b7.hdr movido a rad\n",
      "C:\\cuba\\L8_2016\\ori\\20151128l8oli016_45\\20151128l8oli016_45_r_b8.hdr movido a rad\n",
      "C:\\cuba\\L8_2016\\ori\\20151128l8oli016_45\\20151128l8oli016_45_r_b9.hdr movido a rad\n",
      "C:\\cuba\\L8_2016\\ori\\20151128l8oli016_45\\20151128l8oli016_45_r_bqa.hdr movido a rad\n",
      "modificados los metadatos de  20151128l8oli016_45_r_b1.hdr\n",
      "modificados los metadatos de  20151128l8oli016_45_r_b10.hdr\n",
      "modificados los metadatos de  20151128l8oli016_45_r_b11.hdr\n",
      "modificados los metadatos de  20151128l8oli016_45_r_b2.hdr\n",
      "modificados los metadatos de  20151128l8oli016_45_r_b3.hdr\n",
      "modificados los metadatos de  20151128l8oli016_45_r_b4.hdr\n",
      "modificados los metadatos de  20151128l8oli016_45_r_b5.hdr\n",
      "modificados los metadatos de  20151128l8oli016_45_r_b6.hdr\n",
      "modificados los metadatos de  20151128l8oli016_45_r_b7.hdr\n",
      "modificados los metadatos de  20151128l8oli016_45_r_b8.hdr\n",
      "modificados los metadatos de  20151128l8oli016_45_r_b9.hdr\n",
      "modificados los metadatos de  20151128l8oli016_45_r_bqa.hdr\n"
     ]
    },
    {
     "name": "stderr",
     "output_type": "stream",
     "text": [
      "C:\\Anaconda2\\lib\\site-packages\\rasterio\\__init__.py:98: FutureWarning: GDAL-style transforms are deprecated and will not be supported in Rasterio 1.0.\n",
      "  transform = guard_transform(transform)\n"
     ]
    },
    {
     "name": "stdout",
     "output_type": "stream",
     "text": [
      "b1 1-CA\n",
      "b2 2-B\n",
      "b3 3-G\n",
      "b4 4-R\n",
      "b5 5-NIR\n",
      "b6 6-SWIR1\n",
      "b7 7-SWIR2\n",
      "b9 9-CI\n"
     ]
    },
    {
     "ename": "IOError",
     "evalue": "[Errno 2] No such file or directory: 'C:\\\\Cuba\\\\data\\\\temp\\\\rename_rad.bat'",
     "output_type": "error",
     "traceback": [
      "\u001b[1;31m---------------------------------------------------------------------------\u001b[0m",
      "\u001b[1;31mIOError\u001b[0m                                   Traceback (most recent call last)",
      "\u001b[1;32m<ipython-input-3-44a672130896>\u001b[0m in \u001b[0;36m<module>\u001b[1;34m()\u001b[0m\n\u001b[1;32m----> 1\u001b[1;33m \u001b[0mescena\u001b[0m\u001b[1;33m.\u001b[0m\u001b[0mrun\u001b[0m\u001b[1;33m(\u001b[0m\u001b[1;33m)\u001b[0m\u001b[1;33m\u001b[0m\u001b[0m\n\u001b[0m",
      "\u001b[1;32mcorrad_cuba.pyc\u001b[0m in \u001b[0;36mrun\u001b[1;34m(self)\u001b[0m\n",
      "\u001b[1;32mcorrad_cuba.pyc\u001b[0m in \u001b[0;36mmodify_rel_R\u001b[1;34m(self)\u001b[0m\n",
      "\u001b[1;31mIOError\u001b[0m: [Errno 2] No such file or directory: 'C:\\\\Cuba\\\\data\\\\temp\\\\rename_rad.bat'"
     ]
    }
   ],
   "source": [
    "escena.run()"
   ]
  },
  {
   "cell_type": "code",
   "execution_count": null,
   "metadata": {
    "collapsed": false
   },
   "outputs": [],
   "source": [
    "import rasterio\n",
    "\n",
    "with rasterio.open(r'C:\\cuba\\L8_2016\\ori\\20160106l8oli017_45\\LC80170452016006LGN00_B8.TIF') as src:\n",
    "    \n",
    "    RS = src.read()\n",
    "    print RS.shape"
   ]
  },
  {
   "cell_type": "code",
   "execution_count": null,
   "metadata": {
    "collapsed": true
   },
   "outputs": [],
   "source": []
  }
 ],
 "metadata": {
  "kernelspec": {
   "display_name": "Python 2",
   "language": "python",
   "name": "python2"
  },
  "language_info": {
   "codemirror_mode": {
    "name": "ipython",
    "version": 2
   },
   "file_extension": ".py",
   "mimetype": "text/x-python",
   "name": "python",
   "nbconvert_exporter": "python",
   "pygments_lexer": "ipython2",
   "version": "2.7.11"
  }
 },
 "nbformat": 4,
 "nbformat_minor": 0
}
